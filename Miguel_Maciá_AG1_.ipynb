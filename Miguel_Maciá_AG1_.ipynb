{
  "nbformat": 4,
  "nbformat_minor": 0,
  "metadata": {
    "colab": {
      "name": "Miguel Maciá- AG1 .ipynb",
      "provenance": [],
      "collapsed_sections": [],
      "include_colab_link": true
    },
    "kernelspec": {
      "name": "python3",
      "display_name": "Python 3"
    },
    "language_info": {
      "name": "python"
    }
  },
  "cells": [
    {
      "cell_type": "markdown",
      "metadata": {
        "id": "view-in-github",
        "colab_type": "text"
      },
      "source": [
        "<a href=\"https://colab.research.google.com/github/50ba0/bicicletas/blob/main/Miguel_Maci%C3%A1_AG1_.ipynb\" target=\"_parent\"><img src=\"https://colab.research.google.com/assets/colab-badge.svg\" alt=\"Open In Colab\"/></a>"
      ]
    },
    {
      "cell_type": "markdown",
      "metadata": {
        "id": "GG2D6vLdYwwy"
      },
      "source": [
        "Actividad Guiada 1 de Algoritmos de Optimizacion\n",
        "\n",
        "Nombre: Miguel Maciá García\n",
        "\n",
        "https://colab.research.google.com/drive/1PuAQ71EG0ARIM3OKbzsxB57dFzy5IsHs\n",
        "\n",
        "https://github.com/mi_usuario/03MAIR---Algoritmos-de-Optimizacion"
      ]
    },
    {
      "cell_type": "code",
      "metadata": {
        "id": "rTiqLuX2ZKuL",
        "colab": {
          "base_uri": "https://localhost:8080/"
        },
        "outputId": "e0d16b49-04c3-4bb6-b70f-2afcfad54c1a"
      },
      "source": [
        "#Torres de Hanoi - Divide y venceras\n",
        "\n",
        "def torres_hanoi(N, desde, hasta):\n",
        "  if N==1:\n",
        "    print('Mueve desde torre', desde, 'hasta torre', hasta)\n",
        "\n",
        "  else:\n",
        "    torres_hanoi(N-1, desde, 6-desde-hasta)\n",
        "    print('Mueve desde torre', desde, 'hasta torre', hasta)\n",
        "    torres_hanoi(N-1, 6-desde-hasta, hasta)\n",
        "\n",
        "\n",
        "torres_hanoi(3, 1, 3)"
      ],
      "execution_count": null,
      "outputs": [
        {
          "output_type": "stream",
          "text": [
            "Mueve desde torre 1 hasta torre 3\n",
            "Mueve desde torre 1 hasta torre 2\n",
            "Mueve desde torre 3 hasta torre 2\n",
            "Mueve desde torre 1 hasta torre 3\n",
            "Mueve desde torre 2 hasta torre 1\n",
            "Mueve desde torre 2 hasta torre 3\n",
            "Mueve desde torre 1 hasta torre 3\n"
          ],
          "name": "stdout"
        }
      ]
    },
    {
      "cell_type": "code",
      "metadata": {
        "id": "LTJfXj-8z69e"
      },
      "source": [
        ""
      ],
      "execution_count": null,
      "outputs": []
    },
    {
      "cell_type": "code",
      "metadata": {
        "id": "UTL6wiczQVDA"
      },
      "source": [
        ""
      ],
      "execution_count": null,
      "outputs": []
    },
    {
      "cell_type": "code",
      "metadata": {
        "id": "YwBudj2hYoMR",
        "colab": {
          "base_uri": "https://localhost:8080/"
        },
        "outputId": "95d4c605-e7eb-400f-efcb-f932ce92f3ff"
      },
      "source": [
        "#Cambio de monedas - Técnica voraz\n",
        "################################################################################\n",
        "\n",
        "################################################################\n",
        "def cambio_monedas(CANTIDAD,SISTEMA):\n",
        "  print('SISTEMA:')\n",
        "  print(SISTEMA)\n",
        "\n",
        "  VALOR_ACUMULADO=0\n",
        "  SOLUCIÓN=[0 for i in range(len(SISTEMA))]  #[0,0,0,0] sería válido: 0*len(SISTEMA)\n",
        "\n",
        "  for i in range(len(SISTEMA)):\n",
        "    monedas=(CANTIDAD-VALOR_ACUMULADO)//SISTEMA[i]\n",
        "    SOLUCIÓN[i]=monedas\n",
        "    VALOR_ACUMULADO=VALOR_ACUMULADO+monedas*SISTEMA[i]\n",
        "\n",
        "    if VALOR_ACUMULADO==CANTIDAD:\n",
        "       return SOLUCIÓN\n",
        "\n",
        "  if VALOR_ACUMULADO!=CANTIDAD:\n",
        "    print('No hay solución')\n",
        "  return SOLUCIÓN\n",
        "\n",
        "\n",
        "\n",
        "\n",
        "\n",
        "\n",
        "\n",
        "\n",
        "\n",
        "SISTEMA=[50,20,10,5,1]\n",
        "cambio_monedas(234,SISTEMA)\n",
        "################################################################"
      ],
      "execution_count": null,
      "outputs": [
        {
          "output_type": "stream",
          "text": [
            "SISTEMA:\n",
            "[50, 20, 10, 5, 1]\n"
          ],
          "name": "stdout"
        },
        {
          "output_type": "execute_result",
          "data": {
            "text/plain": [
              "[4, 1, 1, 0, 4]"
            ]
          },
          "metadata": {
            "tags": []
          },
          "execution_count": 2
        }
      ]
    },
    {
      "cell_type": "code",
      "metadata": {
        "id": "9toJ4WjhQUNj"
      },
      "source": [
        ""
      ],
      "execution_count": null,
      "outputs": []
    },
    {
      "cell_type": "code",
      "metadata": {
        "id": "H4Iwt2XRZTFr",
        "colab": {
          "base_uri": "https://localhost:8080/"
        },
        "outputId": "f86e33c1-7093-4091-a149-1de7f088275f"
      },
      "source": [
        "#N Reinas - Vuelta Atrás()\n",
        "\n",
        "\n",
        "#Verifica que en la solución parcial no hay amenzas entre reinas\n",
        "################################################################\n",
        "def es_prometedora(SOLUCION,etapa):\n",
        "################################################################\n",
        "  #print(SOLUCION)\n",
        "  #Si la solución tiene dos valores iguales no es valida => Dos reinas en la misma fila\n",
        "  for i in range(etapa+1):\n",
        "    #print(\"El valor \" + str(SOLUCION[i]) + \" está \" +  str(SOLUCION.count(SOLUCION[i])) + \" veces\")\n",
        "    if SOLUCION.count(SOLUCION[i]) > 1:       \n",
        "      return False\n",
        "  \n",
        "    #Verifica las diagonales\n",
        "    for j in range(i+1, etapa +1 ):\n",
        "      #print(\"Comprobando diagonal de \" + str(i) + \" y \" + str(j))\n",
        "      if abs(i-j) == abs(SOLUCION[i]-SOLUCION[j]) : return False\n",
        "  return True\n",
        "\n",
        "#Traduce la solución al tablero\n",
        "################################################################\n",
        "def escribe_solución(S):\n",
        "################################################################\n",
        "  n = len(S)\n",
        "  for x in range(n):\n",
        "    print(\"\")\n",
        "    for i in range(n):\n",
        "      if S[i] == x+1:\n",
        "        print(\" X \" , end=\"\")\n",
        "      else:\n",
        "        print(\" - \", end=\"\")\n",
        "\n",
        "\n",
        "\n",
        "#Proceso principal de N-Reinas\n",
        "################################################################\n",
        "def reinas(N,solución=[],etapa=0): \n",
        "  # N  tamaño del tablero\n",
        "  #solución  solución parcial\n",
        "  #etapa  -nº de reinaas colocadas en la solución parcial\n",
        "\n",
        "  #inicializa la solución\n",
        "  if len(solución)==0:\n",
        "    solución=[0 for i in range(N)]\n",
        "\n",
        "  #recorremos todas las reinas\n",
        "  for i in range(1,N+1):\n",
        "    solución[etapa]=i\n",
        "\n",
        "    #print(solución)\n",
        "    if es_prometedora(solución, etapa):\n",
        "      if etapa==N-1:\n",
        "        print('\\n\\La solución es:')\n",
        "        print(solución)\n",
        "        escribe_solución(solución)\n",
        "\n",
        "      else:\n",
        "        #print('Es prometedora\\n')\n",
        "        reinas(N,solución, etapa+1)\n",
        "\n",
        "    else:\n",
        "      #print('No es prometedora\\n')\n",
        "      None\n",
        "\n",
        "    solución[etapa]=0\n",
        "\n",
        "reinas(6, solución=[],etapa=0)"
      ],
      "execution_count": null,
      "outputs": [
        {
          "output_type": "stream",
          "text": [
            "\n",
            "\\La solución es:\n",
            "[2, 4, 6, 1, 3, 5]\n",
            "\n",
            " -  -  -  X  -  - \n",
            " X  -  -  -  -  - \n",
            " -  -  -  -  X  - \n",
            " -  X  -  -  -  - \n",
            " -  -  -  -  -  X \n",
            " -  -  X  -  -  - \n",
            "\\La solución es:\n",
            "[3, 6, 2, 5, 1, 4]\n",
            "\n",
            " -  -  -  -  X  - \n",
            " -  -  X  -  -  - \n",
            " X  -  -  -  -  - \n",
            " -  -  -  -  -  X \n",
            " -  -  -  X  -  - \n",
            " -  X  -  -  -  - \n",
            "\\La solución es:\n",
            "[4, 1, 5, 2, 6, 3]\n",
            "\n",
            " -  X  -  -  -  - \n",
            " -  -  -  X  -  - \n",
            " -  -  -  -  -  X \n",
            " X  -  -  -  -  - \n",
            " -  -  X  -  -  - \n",
            " -  -  -  -  X  - \n",
            "\\La solución es:\n",
            "[5, 3, 1, 6, 4, 2]\n",
            "\n",
            " -  -  X  -  -  - \n",
            " -  -  -  -  -  X \n",
            " -  X  -  -  -  - \n",
            " -  -  -  -  X  - \n",
            " X  -  -  -  -  - \n",
            " -  -  -  X  -  - "
          ],
          "name": "stdout"
        }
      ]
    },
    {
      "cell_type": "code",
      "metadata": {
        "id": "eTZclKH9QV0R"
      },
      "source": [
        ""
      ],
      "execution_count": null,
      "outputs": []
    },
    {
      "cell_type": "code",
      "metadata": {
        "id": "iPcgVSMabXrU",
        "colab": {
          "base_uri": "https://localhost:8080/",
          "height": 355
        },
        "outputId": "2cf4da8d-53c4-4f45-e20e-d735843149eb"
      },
      "source": [
        "#Viaje por el rio - Programación dinámica\n",
        "################################################################################\n",
        "\n",
        "TARIFAS = [\n",
        "[0,5,4,3,999,999,999],\n",
        "[999,0,999,2,3,999,11],\n",
        "[999,999, 0,1,999,4,10],\n",
        "[999,999,999, 0,5,6,9],\n",
        "[999,999, 999,999,0,999,4],\n",
        "[999,999, 999,999,999,0,3],\n",
        "[999,999,999,999,999,999,0]\n",
        "]\n",
        "\n",
        "#999 se puede sustituir por float(\"inf\")\n",
        "\n",
        "\n",
        "#Calculo de la matriz de PRECIOS y RUTAS\n",
        "################################################################  \n",
        "def Precios(TARIFAS):\n",
        "\n",
        "  N=len(TARIFAS[0]) #número de nodos\n",
        "\n",
        "  #Inicializo la tabla de precios\n",
        "  PRECIOS=[[9999]*N for i in [9999]*N]\n",
        "  RUTA=[[\"\"]*N for i in [\"\"]*N]\n",
        "\n",
        "  for i in range(N-1):\n",
        "    for j in range(i+1,N):\n",
        "      MIN=TARIFAS[i][j]\n",
        "      RUTA[i][j]=i\n",
        "\n",
        "      for k in range(i,j):\n",
        "        if PRECIOS[i][k] + TARIFAS[k][j] < MIN:\n",
        "          MIN=min(MIN,PRECIOS[i][k]+TARIFAS[k][j])\n",
        "          RUTA[i][j]=k\n",
        "          PRECIOS[i][j]=MIN\n",
        "\n",
        "  return PRECIOS,RUTA\n",
        "\n",
        "\n",
        "\n",
        "\n",
        "\n",
        "\n",
        "PRECIOS,RUTA = Precios(TARIFAS)  \n",
        "#print(PRECIOS[0][6])\n",
        "\n",
        "print(\"PRECIOS\")\n",
        "for i in range(len(TARIFAS)):\n",
        "  print(PRECIOS[i])\n",
        "\n",
        "print(\"\\nRUTA\")  \n",
        "for i in range(len(TARIFAS)):\n",
        "  print(RUTA[i])  \n",
        "  \n",
        "#Determinar la ruta con Recursividad\n",
        "################################################################\n",
        "def calcular_ruta(RUTA, desde, hasta):\n",
        "################################################################\n",
        "  if desde == hasta:\n",
        "    #print(\"Ir a :\" + str(desde))\n",
        "    return \"\" \n",
        "  else:\n",
        "    return str(calcular_ruta( RUTA, desde, RUTA[desde][hasta])) +  ',' + str(RUTA[desde][hasta] ) \n",
        "\n",
        "print(\"\\nLa ruta es:\")  \n",
        "calcular_ruta(RUTA, 0,6) "
      ],
      "execution_count": null,
      "outputs": [
        {
          "output_type": "stream",
          "text": [
            "PRECIOS\n",
            "[9999, 9999, 9999, 9999, 9999, 9999, 9999]\n",
            "[9999, 9999, 9999, 9999, 9999, 9999, 9999]\n",
            "[9999, 9999, 9999, 9999, 9999, 9999, 9999]\n",
            "[9999, 9999, 9999, 9999, 9999, 9999, 9999]\n",
            "[9999, 9999, 9999, 9999, 9999, 9999, 9999]\n",
            "[9999, 9999, 9999, 9999, 9999, 9999, 9999]\n",
            "[9999, 9999, 9999, 9999, 9999, 9999, 9999]\n",
            "\n",
            "RUTA\n",
            "['', 0, 0, 0, 0, 0, 0]\n",
            "['', '', 1, 1, 1, 1, 1]\n",
            "['', '', '', 2, 2, 2, 2]\n",
            "['', '', '', '', 3, 3, 3]\n",
            "['', '', '', '', '', 4, 4]\n",
            "['', '', '', '', '', '', 5]\n",
            "['', '', '', '', '', '', '']\n",
            "\n",
            "La ruta es:\n"
          ],
          "name": "stdout"
        },
        {
          "output_type": "execute_result",
          "data": {
            "application/vnd.google.colaboratory.intrinsic+json": {
              "type": "string"
            },
            "text/plain": [
              "',0'"
            ]
          },
          "metadata": {
            "tags": []
          },
          "execution_count": 4
        }
      ]
    },
    {
      "cell_type": "code",
      "metadata": {
        "id": "TocxR55dQWq5"
      },
      "source": [
        ""
      ],
      "execution_count": null,
      "outputs": []
    }
  ]
}