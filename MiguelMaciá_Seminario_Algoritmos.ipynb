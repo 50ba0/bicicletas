{
  "nbformat": 4,
  "nbformat_minor": 0,
  "metadata": {
    "colab": {
      "name": "Copy of Seminario - Algoritmos.ipynb",
      "provenance": [],
      "collapsed_sections": [],
      "include_colab_link": true
    },
    "kernelspec": {
      "name": "python3",
      "display_name": "Python 3"
    }
  },
  "cells": [
    {
      "cell_type": "markdown",
      "metadata": {
        "id": "view-in-github",
        "colab_type": "text"
      },
      "source": [
        "<a href=\"https://colab.research.google.com/github/50ba0/bicicletas/blob/main/MiguelMaci%C3%A1_Seminario_Algoritmos.ipynb\" target=\"_parent\"><img src=\"https://colab.research.google.com/assets/colab-badge.svg\" alt=\"Open In Colab\"/></a>"
      ]
    },
    {
      "cell_type": "markdown",
      "metadata": {
        "id": "hVbXYX-RfPWh"
      },
      "source": [
        "# Algoritmos de optimización - Seminario<br>\n",
        "Nombre y Apellidos:  Miguel Maciá García <br>\n",
        "Url: https://github.com/50ba0/bicicletas/blob/main/Miguel_Maci%C3%A1_Seminario_Algoritmos.ipynb<br>\n",
        "Problema:\n",
        "> 1. Sesiones de doblaje <br>\n",
        ">2. Organizar los horarios de partidos de La Liga<br>\n",
        ">3. Combinar cifras y operaciones\n",
        "\n",
        "Descripción del problema:(copiar enunciado)\n",
        "\n",
        "El problema consiste en analizar el siguiente problema y diseñar un algoritmo que lo resuelva.\n",
        "\n",
        "• Disponemos de las 9 cifras del 1 al 9 (excluimos el cero) y de los 4 signos básicos de las\n",
        "operaciones fundamentales: suma(+), resta(-), multiplicación(*) y división(/)\n",
        "\n",
        "• Debemos combinarlos alternativamente sin repetir ninguno de ellos para obtener una\n",
        "cantidad dada. Un ejemplo sería para obtener el 4:\n",
        "4+2-6/3*1 = 4\n",
        "\n",
        "Debe analizarse el problema para encontrar todos los valores enteros posibles planteando las\n",
        "siguientes cuestiones:\n",
        "- ¿Qué valor máximo y mínimo se pueden obtener según las condiciones del problema?\n",
        "- ¿Es posible encontrar todos los valores enteros posibles entre dicho mínimo y máximo ?\n",
        "\n",
        "• Nota: Es posible usar la función de python “eval” para evaluar una expresión:\n",
        "\n",
        "(*) La respuesta es obligatoria\n",
        "\n",
        "\n",
        "\n",
        "\n",
        "\n",
        "                                        "
      ]
    },
    {
      "cell_type": "code",
      "metadata": {
        "id": "AiskKkzZfy4e"
      },
      "source": [
        "import itertools\n",
        "from itertools import permutations\n",
        "from math import floor\n",
        "import numpy as np\n",
        "import random"
      ],
      "execution_count": 38,
      "outputs": []
    },
    {
      "cell_type": "markdown",
      "metadata": {
        "id": "3_-exlrTgLd-"
      },
      "source": [
        "**(*)¿Cuantas posibilidades hay sin tener en cuenta las restricciones?**\n",
        "\n",
        "**¿Cuantas posibilidades hay teniendo en cuenta todas las restricciones.**\n",
        "\n",
        "\n"
      ]
    },
    {
      "cell_type": "markdown",
      "metadata": {
        "id": "WfCUqJyKhPcw"
      },
      "source": [
        "Respuesta"
      ]
    },
    {
      "cell_type": "markdown",
      "metadata": {
        "id": "VZ6bHrnkyFwk"
      },
      "source": [
        "# Sin restricciones \n",
        "\n",
        "Sin tener en cuenta las restricciones, esto es, permitiendo la repetición de cifras y operadores el número de posibilidades es : 604466176. <br> Tanto para los operadores como para las cifras la solución se haya aplicando el producto cartesiano a ambos conjuntos y luego multiplicando los resultados.\n"
      ]
    },
    {
      "cell_type": "code",
      "metadata": {
        "id": "iq6Fe32MgpDX",
        "colab": {
          "base_uri": "https://localhost:8080/"
        },
        "outputId": "b48de55c-0f1b-4345-b02e-dee04f9bf2d6"
      },
      "source": [
        "list1=['+','-','*','/']\n",
        "list2=['1','2','3','4','5','6','7','8','9']\n",
        "\n",
        "\n",
        "signss=[x for x in itertools.product(list1,repeat=5)]\n",
        "print('Posibles combinaciones de operadores sin restricciones:',len(signss))\n",
        "\n",
        "numberss=[x for x in itertools.product(list2,repeat=5)]\n",
        "print('Posibles combinaciones de cifras sin restricciones:',len(numberss))\n",
        "\n",
        "print('Número de posibilidades =',len(numberss)*len(signss))"
      ],
      "execution_count": 39,
      "outputs": [
        {
          "output_type": "stream",
          "name": "stdout",
          "text": [
            "Posibles combinaciones de operadores sin restricciones: 1024\n",
            "Posibles combinaciones de cifras sin restricciones: 59049\n",
            "Número de posibilidades = 60466176\n"
          ]
        }
      ]
    },
    {
      "cell_type": "markdown",
      "metadata": {
        "id": "UdeRJmzhy7dy"
      },
      "source": [
        "# Con restricciones \n",
        "\n",
        "Si seguimos las normas introducidas en el enunciado, es decir, imposibilitando la repetición de cualquier cifra u operador \n",
        "a la hora de combinar ambas listas, el resultado va a disminuir con respecto al caso previo. La permutación es en este caso va a ser la herramienta utilizada, ya que nos proporciona todas las posibles \n",
        "combinaciones de valores siendo relevante el orden de aparición de cada elemento.\n",
        "\n",
        "En el caso de las cifras, la operación es el producto de la permutación de 5 valores por la combinación sin repetición de 5 números dentro de los 9 posibles."
      ]
    },
    {
      "cell_type": "code",
      "metadata": {
        "colab": {
          "base_uri": "https://localhost:8080/"
        },
        "id": "63NUAcD7y6Kr",
        "outputId": "b6833aa2-fc23-45ca-b899-1aac68b3e0ab"
      },
      "source": [
        "list1=['+','-','*','/']\n",
        "list2=['1','2','3','4','5','6','7','8','9']\n",
        "\n",
        "signs = [x for x in itertools.permutations(list1,4)]\n",
        "print('Posibles combinaciones de signos con restricciones:',len(signs))\n",
        "\n",
        "num=[x for x in itertools.permutations(list2,5)]\n",
        "num=list(num) #convierto a una lista para el correcto desarrollo posterior del algoritmo\n",
        "print('Posibles combinaciones de cifras con restricciones:',len(num))\n",
        "\n",
        "print('Número de posibilidades =',len(num)*len(signs))"
      ],
      "execution_count": 40,
      "outputs": [
        {
          "output_type": "stream",
          "name": "stdout",
          "text": [
            "Posibles combinaciones de signos con restricciones: 24\n",
            "Posibles combinaciones de cifras con restricciones: 15120\n",
            "Número de posibilidades = 362880\n"
          ]
        }
      ]
    },
    {
      "cell_type": "markdown",
      "metadata": {
        "id": "dzynfVJahHoY"
      },
      "source": [
        "**Modelo para el espacio de soluciones<br>\n",
        "(*) ¿Cual es la estructura de datos que mejor se adapta al problema? Argumentalo.(Es posible que hayas elegido una al principio y veas la necesidad de cambiar, arguentalo)**\n"
      ]
    },
    {
      "cell_type": "markdown",
      "metadata": {
        "id": "xFIJrOwKi2Ti"
      },
      "source": [
        "Tal y como se infiere del enunciado, el problema consiste en evaluar todos los valores resultantes de permutar 5 cifras independientes junto con 4 operadores no repetidos. Por lo que, tratando de simplificar la obtención de resultados y teniendo en cuenta que en ningún momento nos es requerida la expresión que arroja dicho valor entero, he considerado suficiente utilizar una lista donde vayan añadiéndose aquellos resultados que sean enteros.\n",
        "\n",
        "Posteriormente ordenaré esa lista y seleccionaré el valor de cada extremo como máximo y mínimo."
      ]
    },
    {
      "cell_type": "code",
      "metadata": {
        "id": "38c-7-ejhJmA"
      },
      "source": [
        ""
      ],
      "execution_count": 40,
      "outputs": []
    },
    {
      "cell_type": "markdown",
      "metadata": {
        "id": "7Z9U2W7bi-XS"
      },
      "source": [
        "**Según el modelo para el espacio de soluciones<br>\n",
        "(*)¿Cual es la función objetivo?**\n",
        "\n",
        "**(*)¿Es un problema de maximización o minimización?**"
      ]
    },
    {
      "cell_type": "markdown",
      "metadata": {
        "id": "hBalWLM7j1_d"
      },
      "source": [
        "Para el caso de este problema en particular no requiere el uso de una función objetivo; y en consecuencia, tampoco debe ser necesario averiguar si debe maximizarse o minimizarse estas función.\n",
        "\n",
        "Para el presente ejercicio, el objetivo es calcular todos los valores enteros positivos que arroja la combinación de cinco cifras y cuatro operadores (no repetidos), para luego señalar el valor máximo y mínimo y si con esos 9 valores pueden obtenerse todos los enteros entre ambos puntos críticos."
      ]
    },
    {
      "cell_type": "code",
      "metadata": {
        "id": "pDA-rg3Gj5Lz"
      },
      "source": [
        ""
      ],
      "execution_count": 40,
      "outputs": []
    },
    {
      "cell_type": "markdown",
      "metadata": {
        "id": "rlnTYgY1j6I2"
      },
      "source": [
        "Diseña un algoritmo para resolver el problema por fuerza bruta"
      ]
    },
    {
      "cell_type": "markdown",
      "metadata": {
        "id": "70rDgxYXkC8r"
      },
      "source": [
        "Respuesta"
      ]
    },
    {
      "cell_type": "code",
      "metadata": {
        "id": "CJb5sQ0qkENy"
      },
      "source": [
        ""
      ],
      "execution_count": 40,
      "outputs": []
    },
    {
      "cell_type": "markdown",
      "metadata": {
        "id": "tgrnsC2nkFa8"
      },
      "source": [
        "**Calcula la complejidad del algoritmo por fuerza bruta**"
      ]
    },
    {
      "cell_type": "markdown",
      "metadata": {
        "id": "9eUd3xwckP68"
      },
      "source": [
        "Sin haber diseñado el algoritmo, creo que puedo ser capaz de estimar la complejidad del algoritmo por fuerza bruta.\n",
        "\n",
        "Asumiendo que la complejidad equivale a la dimensión de la cantidad de posibilidades. Para contarlas si recorres todo el espacio de posibilidades , asumiendo que n depende del total de cifras de la expresión (5). La complejidad de este algoritmo vendría dada por O(n^5)"
      ]
    },
    {
      "cell_type": "code",
      "metadata": {
        "id": "rvZWwL-ckRST"
      },
      "source": [
        ""
      ],
      "execution_count": 40,
      "outputs": []
    },
    {
      "cell_type": "markdown",
      "metadata": {
        "id": "txbrmLmskReM"
      },
      "source": [
        "(*)Diseña un algoritmo que mejore la complejidad del algortimo por fuerza bruta. Argumenta porque crees que mejora el algoritmo por fuerza bruta"
      ]
    },
    {
      "cell_type": "markdown",
      "metadata": {
        "id": "hLrVwt5QkZPD"
      },
      "source": [
        "Para poder mejorar el algoritmo por fuerza bruta voy a hacer uso de la búsqueda por selección a la hora de encontrar máximos y mínimo al igual que el uso de las funciones combinativas de itertools para representar las permutaciones.\n",
        "\n"
      ]
    },
    {
      "cell_type": "code",
      "metadata": {
        "id": "m1eyM21Vkabg"
      },
      "source": [
        "def selectionSort(alist):\n",
        "     for fillslot in range(len(alist)-1,0,-1):\n",
        "         positionOfMax=0\n",
        "         for location in range(1,fillslot+1):\n",
        "                 if alist[location]>alist[positionOfMax]:\n",
        "                         positionOfMax = location\n",
        "         temp = alist[fillslot]\n",
        "         alist[fillslot] = alist[positionOfMax]\n",
        "         alist[positionOfMax] = temp\n",
        "\n",
        "def evaluar_expresión(numbers):\n",
        "    print(numbers)\n",
        "    operators = [\"+\",\"-\",\"*\",\"/\"]\n",
        "\n",
        "\n",
        "    a=[]\n",
        "    f=[]\n",
        "    dicti={}\n",
        "    for values in permutations(numbers,len(numbers)): #todas los posibles permutaciones de cifras\n",
        "        for oper in permutations(operators,len(numbers)-1): #todas las permutaciones de signos\n",
        "            formula = \"\".join(o+v for o,v in zip([\"\"]+list(oper),values)) #escribo la expresión entre comillas\n",
        "            if eval(formula)-floor(eval(formula)) == 0: #condición necesaria para que el valor sea entero\n",
        "                f.append(str(formula))#añado la expresión a la lista 'f'\n",
        "                a.append(eval(formula))  #añado el valor entero a la lista 'a'\n",
        "\n",
        "\n",
        "    keys=f\n",
        "    values=a\n",
        "\n",
        "    new_dict = {k: v for k, v in zip(keys, values)}  #creo un diccionario para visualizar, si se desea, \n",
        "                                                    #cada valor referido a su expresión\n",
        "\n",
        "\n",
        "    a=np.unique(a) #en este paso reduzco la dimensión de la lista a para evitar la repetición de enteros\n",
        "    if len(a)==0:\n",
        "        print('No hay a posibles para esta expresión')\n",
        "\n",
        "    elif len(a)==1:\n",
        "        print('Los posibles a para esta combinación son:',a)\n",
        "        print('Sólo hay un valor entero posible')\n",
        "\n",
        "    elif len(a)==2 and a[1]==a[0]+1:\n",
        "        selectionSort(a)\n",
        "        print('Los posibles a para esta combinación son:',a)\n",
        "        print( 'Valor mínimo', a[0], '\\n' ,'Valor máximo', a[len(a)-1])\n",
        "        print('Si es posible encontrar todos los a posibles entre el máximo y el mínimo')\n",
        "\n",
        "    elif len(a)==2 and a[1]!=a[0]+1:\n",
        "        selectionSort(a)\n",
        "        print('Los posibles a para esta combinación son:',a)\n",
        "        print( 'Valor mínimo', a[0], '\\n' ,'Valor máximo', a[len(a)-1])\n",
        "        print('No es posible encontrar todos los a posibles entre el máximo y el mínimo')\n",
        "\n",
        "    else:\n",
        "        selectionSort(a)\n",
        "        print('Los posibles a (sin repetición) para esta combinación son:',a)\n",
        "        print( 'Valor mínimo', a[0], '\\n' ,'Valor máximo', a[len(a)-1])\n",
        "\n",
        "\n",
        "        for i in range (0,len(a)-2):\n",
        "\n",
        "            if a[i+1]!=a[i]+1 or a[i+1]!=a[i]: \n",
        "                print('No es posible encontrar todos los a posibles entre el máximo y el mínimo')\n",
        "                break\n",
        "\n",
        "            else:\n",
        "                print('Si es posible encontrar todos los a posibles entre el máximo y el mínimo')\n",
        "    return\n",
        "          \n",
        "\n",
        "\n"
      ],
      "execution_count": 41,
      "outputs": []
    },
    {
      "cell_type": "markdown",
      "metadata": {
        "id": "eGDB4K6uk1iN"
      },
      "source": [
        "(*)Calcula la complejidad del algoritmo "
      ]
    },
    {
      "cell_type": "markdown",
      "metadata": {
        "id": "NhpTh_BPk1ms"
      },
      "source": [
        "Tal y como aparece en el código, la forma de calcular las permutaciones consiste en dos bucles anidados de longitu n y (n-1) respectivamente; por lo que la complejidad en este caso va a ser O(n^2)."
      ]
    },
    {
      "cell_type": "code",
      "metadata": {
        "id": "nREzhkStlCq8"
      },
      "source": [
        ""
      ],
      "execution_count": 41,
      "outputs": []
    },
    {
      "cell_type": "markdown",
      "metadata": {
        "id": "3M6QjTsSkmYe"
      },
      "source": [
        "Según el problema (y tenga sentido), diseña un juego de datos de entrada aleatorios"
      ]
    },
    {
      "cell_type": "markdown",
      "metadata": {
        "id": "Jc3_OlyNkvjZ"
      },
      "source": [
        "Respuesta"
      ]
    },
    {
      "cell_type": "code",
      "metadata": {
        "id": "sJ-N2etjkyWc",
        "colab": {
          "base_uri": "https://localhost:8080/"
        },
        "outputId": "f81c1f02-e32c-4132-bb6b-008b575ab755"
      },
      "source": [
        "numbers   = random.choice(num)\n",
        "print(numbers)"
      ],
      "execution_count": 42,
      "outputs": [
        {
          "output_type": "stream",
          "name": "stdout",
          "text": [
            "('6', '2', '9', '1', '4')\n"
          ]
        }
      ]
    },
    {
      "cell_type": "markdown",
      "metadata": {
        "id": "zy5ZROmjlGo1"
      },
      "source": [
        "Aplica el algoritmo al juego de datos generado"
      ]
    },
    {
      "cell_type": "markdown",
      "metadata": {
        "id": "_Cmj-PVylMsa"
      },
      "source": [
        "Respuesta"
      ]
    },
    {
      "cell_type": "code",
      "metadata": {
        "id": "Jkx8GeiYlUz1",
        "colab": {
          "base_uri": "https://localhost:8080/"
        },
        "outputId": "b366b322-fae9-4f36-c070-5a7c79a067f0"
      },
      "source": [
        "\n",
        "\n",
        "evaluar_expresión(numbers)"
      ],
      "execution_count": 43,
      "outputs": [
        {
          "output_type": "stream",
          "name": "stdout",
          "text": [
            "('6', '2', '9', '1', '4')\n",
            "Los posibles a (sin repetición) para esta combinación son: [-51. -48. -32. -28. -22. -13. -11.  -8.  -5.  -3.  -2.  -1.   0.   1.\n",
            "   2.   4.   5.   6.   7.   8.  10.  11.  13.  16.  17.  20.  23.  24.\n",
            "  30.  31.  32.  34.  38.  40.  52.  53.  55.  56.]\n",
            "Valor mínimo -51.0 \n",
            " Valor máximo 56.0\n",
            "No es posible encontrar todos los a posibles entre el máximo y el mínimo\n"
          ]
        }
      ]
    },
    {
      "cell_type": "markdown",
      "metadata": {
        "id": "eTFWUJQrtGcv"
      },
      "source": [
        "Enumera las referencias que has utilizado(si ha sido necesario) para llevar a cabo el trabajo"
      ]
    },
    {
      "cell_type": "markdown",
      "metadata": {
        "id": "YKQ_mRBttWsP"
      },
      "source": [
        "[1](https://www.geeksforgeeks.org/find-all-possible-outcomes-of-a-given-expression/)\n",
        "\n",
        "[2](https://www.geeksforgeeks.org/minimum-maximum-values-expression/)\n",
        "\n",
        "[3](https://stackoverflow.com/questions/55187799/all-possible-combinations-of-operations-on-list-of-numbers-to-find-a-specific-nu)"
      ]
    },
    {
      "cell_type": "markdown",
      "metadata": {
        "id": "kAkDPUyRtYyH"
      },
      "source": [
        "Describe brevemente las lineas de como crees que es posible avanzar en el estudio del problema. Ten en cuenta incluso posibles variaciones del problema y/o variaciones al alza del tamaño"
      ]
    },
    {
      "cell_type": "markdown",
      "metadata": {
        "id": "IE0uZmo-tZu-"
      },
      "source": [
        "Para avanzar en el estudio del problema sería interesante permitir la introducción de paréntesis en la expresión, aumentando así el número de posibilidades.\n",
        "\n",
        "A continuación, haciendo uso de una función encontrada en esta [página](https://stackoverflow.com/questions/55187799/all-possible-combinations-of-operations-on-list-of-numbers-to-find-a-specific-nu) voy a implementar un algoritmo que tenga en cuenta esta novedad y aplicarlo para el mismo conjunto numérico.\n",
        "\n",
        "\n",
        "\n",
        "\n",
        "\n"
      ]
    },
    {
      "cell_type": "code",
      "metadata": {
        "colab": {
          "base_uri": "https://localhost:8080/"
        },
        "id": "6rlmKotM9M85",
        "outputId": "1eb274fa-1004-4396-ffc2-bb62d77add0d"
      },
      "source": [
        "from itertools import permutations\n",
        "from itertools import product\n",
        "import re\n",
        "\n",
        "#esta es la función que nos permite encontrar el producto cartesiano para los paréntesis\n",
        "def groupPatterns(count,pattern=None):\n",
        "    arr = pattern or \"X\"*count\n",
        "    if len(arr) < 2 : return [arr]\n",
        "    result = []\n",
        "    for mid in range(1,len(arr)):\n",
        "        leftPattern  = groupPatterns(count,arr[:mid])\n",
        "        rightPattern = groupPatterns(count,arr[mid:])\n",
        "        for left,right in product(leftPattern,rightPattern):\n",
        "            result += [left + right]\n",
        "            if len(left)  > 1 : result += [\"(\" + left + \")\" + right]\n",
        "            if len(right) > 1 : result += [left + \"(\" + right + \")\"]\n",
        "            if len(left) > 1 and len(right) > 1: \n",
        "                result += [\"(\" + left + \")(\" + right + \")\"]\n",
        "    if pattern: return result # recursion\n",
        "    patterns = [] # final, add \"+\" between X value placeholders or groups\n",
        "    for pat in sorted(set(result),key=lambda x:len(x)):\n",
        "        pat = re.sub(\"X(?=X)\", r\"X+\",  pat)  # XX --> X+X\n",
        "        pat = re.sub(\"X\\(\",    r\"X+(\", pat)  # X( --> X+(\n",
        "        pat = re.sub(\"\\)X\",    r\")+X\", pat)  # )X --> )+X\n",
        "        pat = re.sub(\"\\)\\(\",   r\")+(\", pat)  # )( --> )+(\n",
        "        patterns.append(pat)\n",
        "    return patterns\n",
        "\n",
        "\n",
        "#Utilizando el algoritmo anterior y añadiendo lo necesario para implementar esta novedad, \n",
        "#podemos observar como el número de enteros posibles aumenta\n",
        "print(numbers)\n",
        "operators = [\"+\",\"-\",\"*\",\"/\"]\n",
        "groups = groupPatterns(len(numbers))\n",
        "seen=set()\n",
        "a=[]\n",
        "for values in permutations(numbers,len(numbers)):\n",
        "   # for operCombo in combinations_with_replacement(operators,len(numbers)-1):\n",
        "        for oper in permutations(operators,len(numbers)-1):\n",
        "            formulaKey = \"\".join(oper+values)\n",
        "            if formulaKey in seen: continue # ignore variations on parentheses alone\n",
        "            for pattern in groups:\n",
        "                formula = \"\".join(o+p for o,p in zip([\"\"]+list(oper), pattern.split(\"+\")))\n",
        "                formula = \"\".join(v+p for v,p in zip([\"\"]+list(values),formula.split(\"X\")))\n",
        "                try:\n",
        "                    if eval(formula)-floor(eval(formula)) == 0: \n",
        "                        #print(formula)\n",
        "                        a.append(eval(formula))\n",
        "                        seen.add(formulaKey)\n",
        "                        break \n",
        "                        \n",
        "                except: pass\n",
        "\n",
        "\n",
        "a=np.unique(a)\n",
        "if len(a)==0:\n",
        "    print('No hay a posibles para esta expresión')\n",
        "    \n",
        "elif len(a)==1:\n",
        "    print('Los posibles a para esta combinación son:',a)\n",
        "    print('Sólo hay un valor entero posible')\n",
        "    \n",
        "elif len(a)==2 and a[1]==a[0]+1:\n",
        "    print('Los posibles a para esta combinación son:',a)\n",
        "    print('Si es posible encontrar todos los a posibles entre el máximo y el mínimo')\n",
        "    \n",
        "elif len(a)==2 and a[1]!=a[0]+1:\n",
        "    print('Los posibles a para esta combinación son:',a)\n",
        "    print('No es posible encontrar todos los a posibles entre el máximo y el mínimo')\n",
        "    \n",
        "else:\n",
        "    selectionSort(a)\n",
        "    print('Los posibles a para esta combinación son:',a)\n",
        "    print( 'Valor mínimo', a[0], '\\n' ,'Valor máximo', a[len(a)-1])\n",
        "\n",
        "\n",
        "    for i in range (0,len(a)-2):\n",
        "        \n",
        "        if a[i+1]!=a[i]+1 or a[i+1]!=a[i]: \n",
        "            print('No es posible encontrar todos los a posibles entre el máximo y el mínimo')\n",
        "            break\n",
        "            \n",
        "        else:\n",
        "            print('Si es posible encontrar todos los a posibles entre el máximo y el mínimo')\n",
        "           \n"
      ],
      "execution_count": 44,
      "outputs": [
        {
          "output_type": "stream",
          "name": "stdout",
          "text": [
            "('6', '2', '9', '1', '4')\n",
            "Los posibles a para esta combinación son: [-70. -56. -54. -53. -51. -50. -48. -47. -41. -38. -37. -32. -29. -28.\n",
            " -24. -23. -22. -20. -18. -17. -16. -14. -13. -12. -11. -10.  -9.  -8.\n",
            "  -7.  -5.  -4.  -3.  -2.  -1.   0.   1.   2.   3.   4.   5.   6.   7.\n",
            "   8.   9.  10.  11.  12.  13.  14.  15.  16.  17.  18.  19.  20.  21.\n",
            "  22.  23.  24.  25.  28.  29.  30.  31.  32.  33.  34.  36.  37.  38.\n",
            "  40.  41.  42.  45.  50.  52.  53.  55.  56.  57.]\n",
            "Valor mínimo -70.0 \n",
            " Valor máximo 57.0\n",
            "No es posible encontrar todos los a posibles entre el máximo y el mínimo\n"
          ]
        }
      ]
    }
  ]
}